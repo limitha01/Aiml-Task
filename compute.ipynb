{
 "cells": [
  {
   "cell_type": "code",
   "execution_count": 38,
   "id": "5fcaa31e",
   "metadata": {},
   "outputs": [],
   "source": [
    "def mean_value(*n):\n",
    "    sum = 0\n",
    "    counter = 0\n",
    "    for x in n:\n",
    "        counter = counter +1\n",
    "        sum += x\n",
    "        mean = sum / counter\n",
    "        return mean"
   ]
  },
  {
   "cell_type": "code",
   "execution_count": 39,
   "id": "c14c51e8",
   "metadata": {},
   "outputs": [
    {
     "data": {
      "text/plain": [
       "99.0"
      ]
     },
     "execution_count": 39,
     "metadata": {},
     "output_type": "execute_result"
    }
   ],
   "source": [
    "mean_value(99,57,38,62,10,79,110,5605,11200,8900)\n"
   ]
  },
  {
   "cell_type": "code",
   "execution_count": 33,
   "id": "2a4ddbba",
   "metadata": {},
   "outputs": [],
   "source": [
    "def median_value(*n):\n",
    "    num_list = list(n)\n",
    "    num_list.sort()\n",
    "    l = len(num_list)\n",
    "    \n",
    "    if l%2 == 0:\n",
    "        median = (num_list[int(l/2)] + num_list[int(l/2)-1])/2\n",
    "    else:\n",
    "        median = num_list[int(l/2)]\n",
    "    return median\n",
    "    "
   ]
  },
  {
   "cell_type": "code",
   "execution_count": 31,
   "id": "705df5e9",
   "metadata": {},
   "outputs": [
    {
     "data": {
      "text/plain": [
       "99.0"
      ]
     },
     "execution_count": 31,
     "metadata": {},
     "output_type": "execute_result"
    }
   ],
   "source": [
    "mean_value(99,57,38,62,10,79,110,605,1200,8500)\n"
   ]
  },
  {
   "cell_type": "code",
   "execution_count": 25,
   "id": "849d3eca",
   "metadata": {},
   "outputs": [
    {
     "data": {
      "text/plain": [
       "89.0"
      ]
     },
     "execution_count": 25,
     "metadata": {},
     "output_type": "execute_result"
    }
   ],
   "source": [
    "median_value(99,57,38,62,10,79,110,404,100,800)\n"
   ]
  },
  {
   "cell_type": "code",
   "execution_count": null,
   "id": "e648a44f",
   "metadata": {},
   "outputs": [],
   "source": []
  }
 ],
 "metadata": {
  "kernelspec": {
   "display_name": "Python 3 (ipykernel)",
   "language": "python",
   "name": "python3"
  },
  "language_info": {
   "codemirror_mode": {
    "name": "ipython",
    "version": 3
   },
   "file_extension": ".py",
   "mimetype": "text/x-python",
   "name": "python",
   "nbconvert_exporter": "python",
   "pygments_lexer": "ipython3",
   "version": "3.11.5"
  }
 },
 "nbformat": 4,
 "nbformat_minor": 5
}
