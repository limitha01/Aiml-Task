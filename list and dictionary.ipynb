{
 "cells": [
  {
   "cell_type": "code",
   "execution_count": 5,
   "id": "4560d1d1",
   "metadata": {},
   "outputs": [
    {
     "name": "stdout",
     "output_type": "stream",
     "text": [
      "odd\n"
     ]
    }
   ],
   "source": [
    "num = 6\n",
    "if num %2 == 0:\n",
    "    print(\"even\")\n",
    "else:\n",
    "    print(\"odd\")"
   ]
  },
  {
   "cell_type": "code",
   "execution_count": 4,
   "id": "638ca9c5",
   "metadata": {},
   "outputs": [
    {
     "name": "stdout",
     "output_type": "stream",
     "text": [
      "positive\n"
     ]
    }
   ],
   "source": [
    "x = 10\n",
    "result = \"positive\" if x > 0 else \"negative\"\n",
    "print(result)"
   ]
  },
  {
   "cell_type": "code",
   "execution_count": 3,
   "id": "1a320cd2",
   "metadata": {},
   "outputs": [
    {
     "name": "stdout",
     "output_type": "stream",
     "text": [
      "Adult\n"
     ]
    }
   ],
   "source": [
    "age = 18\n",
    "category = \"Adult\" if age >= 18 else \"Minor\"\n",
    "print(category)"
   ]
  },
  {
   "cell_type": "code",
   "execution_count": 6,
   "id": "c8d706b0",
   "metadata": {},
   "outputs": [
    {
     "name": "stdout",
     "output_type": "stream",
     "text": [
      "Zero\n"
     ]
    }
   ],
   "source": [
    "#nested if-else\n",
    "num = 0\n",
    "result = \"Positive\" if num > 0 else \"Negative\" if num < 0 else \"Zero\" \n",
    "print(result)"
   ]
  },
  {
   "cell_type": "code",
   "execution_count": 7,
   "id": "5b642c17",
   "metadata": {},
   "outputs": [
    {
     "name": "stdout",
     "output_type": "stream",
     "text": [
      "Positive\n"
     ]
    }
   ],
   "source": [
    "#nested if-else\n",
    "num = 2\n",
    "result = \"Positive\" if num > 0 else \"Negative\" if num < 0 else \"Zero\" \n",
    "print(result)"
   ]
  },
  {
   "cell_type": "code",
   "execution_count": 8,
   "id": "1797b116",
   "metadata": {},
   "outputs": [
    {
     "name": "stdout",
     "output_type": "stream",
     "text": [
      "Negative\n"
     ]
    }
   ],
   "source": [
    "#nested if-else\n",
    "num = -5\n",
    "result = \"Positive\" if num > 0 else \"Negative\" if num < 0 else \"Zero\" \n",
    "print(result)"
   ]
  },
  {
   "cell_type": "code",
   "execution_count": 15,
   "id": "afbb382a",
   "metadata": {},
   "outputs": [
    {
     "data": {
      "text/plain": [
       "[2, 18, 4, 20, 112, 178]"
      ]
     },
     "execution_count": 15,
     "metadata": {},
     "output_type": "execute_result"
    }
   ],
   "source": [
    "#List Comprehension\n",
    "L = [1,9,2,10,56,89]\n",
    "[2*x for x in L]"
   ]
  },
  {
   "cell_type": "code",
   "execution_count": 16,
   "id": "1a093f93",
   "metadata": {},
   "outputs": [
    {
     "data": {
      "text/plain": [
       "[2, 18, 4, 20, 112, 178]"
      ]
     },
     "execution_count": 16,
     "metadata": {},
     "output_type": "execute_result"
    }
   ],
   "source": [
    "#List Comprehension any alphabet can keep\n",
    "L = [1,9,2,10,56,89]\n",
    "[2*a for a in L]"
   ]
  },
  {
   "cell_type": "code",
   "execution_count": 20,
   "id": "8e3c3874",
   "metadata": {},
   "outputs": [
    {
     "data": {
      "text/plain": [
       "[2, 10, 56]"
      ]
     },
     "execution_count": 20,
     "metadata": {},
     "output_type": "execute_result"
    }
   ],
   "source": [
    "#print even numbers\n",
    "L = [1,9,2,10,56,89]\n",
    "[x for x in L if x%2 == 0]"
   ]
  },
  {
   "cell_type": "code",
   "execution_count": 24,
   "id": "c350d716",
   "metadata": {},
   "outputs": [
    {
     "data": {
      "text/plain": [
       "[1, 9, 89]"
      ]
     },
     "execution_count": 24,
     "metadata": {},
     "output_type": "execute_result"
    }
   ],
   "source": [
    "#print odd numbers\n",
    "L = [1,9,2,10,56,89]\n",
    "[x for x in L if x%2 != 0]"
   ]
  },
  {
   "cell_type": "code",
   "execution_count": 27,
   "id": "844f8545",
   "metadata": {},
   "outputs": [
    {
     "data": {
      "text/plain": [
       "{'Limmi': [80, 85, 79, 90],\n",
       " 'Cherry': [90, 70, 85, 82],\n",
       " 'Harsh': [90, 60, 55, 50],\n",
       " 'Ajay': [49, 99, 86, 74]}"
      ]
     },
     "execution_count": 27,
     "metadata": {},
     "output_type": "execute_result"
    }
   ],
   "source": [
    "#dictionary comprehension\n",
    "d1 = {'Limmi':[80, 85, 79, 90], 'Cherry':[90,70,85,82], 'Harsh':[90,60,55,50], 'Ajay':[49,99,86,74]}\n",
    "d1"
   ]
  },
  {
   "cell_type": "code",
   "execution_count": 30,
   "id": "924e69d5",
   "metadata": {},
   "outputs": [
    {
     "data": {
      "text/plain": [
       "{'Limmi': 83.5, 'Cherry': 81.75, 'Harsh': 63.75, 'Ajay': 77.0}"
      ]
     },
     "execution_count": 30,
     "metadata": {},
     "output_type": "execute_result"
    }
   ],
   "source": [
    "{k:sum(v)/len(v) \n",
    " for k,v in d1.items()}"
   ]
  },
  {
   "cell_type": "code",
   "execution_count": 42,
   "id": "8f2e8630",
   "metadata": {},
   "outputs": [
    {
     "name": "stdout",
     "output_type": "stream",
     "text": [
      "Limmi: 83.5\n",
      "Cherry: 81.75\n",
      "Harsh: 63.75\n",
      "Ajay: 77.0\n"
     ]
    }
   ],
   "source": [
    "for name, scores in d1.items():\n",
    "    avg = sum(scores) / len(scores)\n",
    "    print(f\"{name}: {avg}\")"
   ]
  },
  {
   "cell_type": "code",
   "execution_count": 49,
   "id": "d2e50e8d",
   "metadata": {},
   "outputs": [],
   "source": [
    "#Define function (reusable)\n",
    "def mean_value(given_list):\n",
    "    total = sum(given_list)\n",
    "    average_value = total/len(given_list)\n",
    "    return average_value\n",
    "    "
   ]
  },
  {
   "cell_type": "code",
   "execution_count": 48,
   "id": "5c022a08",
   "metadata": {},
   "outputs": [
    {
     "data": {
      "text/plain": [
       "5.5"
      ]
     },
     "execution_count": 48,
     "metadata": {},
     "output_type": "execute_result"
    }
   ],
   "source": [
    "#Call the function\n",
    "L = [1,2,3,4,5,6,7,8,9,10]\n",
    "mean_value(L)"
   ]
  },
  {
   "cell_type": "code",
   "execution_count": 53,
   "id": "1e73e035",
   "metadata": {},
   "outputs": [
    {
     "data": {
      "text/plain": [
       "55"
      ]
     },
     "execution_count": 53,
     "metadata": {},
     "output_type": "execute_result"
    }
   ],
   "source": [
    "L = [1,2,3,4,5,6,7,8,9,10]\n",
    "total = sum(L)\n",
    "total"
   ]
  },
  {
   "cell_type": "code",
   "execution_count": 60,
   "id": "4f63c3c6",
   "metadata": {},
   "outputs": [
    {
     "name": "stdout",
     "output_type": "stream",
     "text": [
      "Good Morning, Limitha!\n"
     ]
    }
   ],
   "source": [
    "def greet(name):\n",
    "    return f\"Good Morning, {name}!\"\n",
    "# Call the function with your name\n",
    "message = greet(\"Limitha\")\n",
    "print(message)\n"
   ]
  },
  {
   "cell_type": "code",
   "execution_count": 61,
   "id": "bec38fa0",
   "metadata": {},
   "outputs": [
    {
     "name": "stdout",
     "output_type": "stream",
     "text": [
      "Good morning, Limitha!\n"
     ]
    }
   ],
   "source": [
    "def greet(name):\n",
    "    print(f\"Good morning, {name}!\")\n",
    "\n",
    "greet(\"Limitha\")\n"
   ]
  },
  {
   "cell_type": "code",
   "execution_count": 4,
   "id": "a3102f9a",
   "metadata": {},
   "outputs": [],
   "source": [
    "#fun with variable number of arguments\n",
    "def avg_value(*n):\n",
    "    l = len(n)\n",
    "    average = sum(n)/1\n",
    "    return average\n"
   ]
  },
  {
   "cell_type": "code",
   "execution_count": 5,
   "id": "8fe78e62",
   "metadata": {},
   "outputs": [
    {
     "data": {
      "text/plain": [
       "2090.0"
      ]
     },
     "execution_count": 5,
     "metadata": {},
     "output_type": "execute_result"
    }
   ],
   "source": [
    "avg_value(10,20,60,100,900,1000)"
   ]
  },
  {
   "cell_type": "code",
   "execution_count": 6,
   "id": "2623a4b5",
   "metadata": {},
   "outputs": [],
   "source": [
    "greet = lambda name : print(f\"Good Morning {name}!\")\n"
   ]
  },
  {
   "cell_type": "code",
   "execution_count": 8,
   "id": "034e478c",
   "metadata": {},
   "outputs": [
    {
     "name": "stdout",
     "output_type": "stream",
     "text": [
      "Good Morning Limitha!\n"
     ]
    }
   ],
   "source": [
    "greet(\"Limitha\")"
   ]
  },
  {
   "cell_type": "code",
   "execution_count": 9,
   "id": "1ddcdf41",
   "metadata": {},
   "outputs": [],
   "source": [
    "#product of 3 numbers\n",
    "product = lambda a,b,c : a*b*c"
   ]
  },
  {
   "cell_type": "code",
   "execution_count": 11,
   "id": "c468093e",
   "metadata": {},
   "outputs": [
    {
     "data": {
      "text/plain": [
       "10000000"
      ]
     },
     "execution_count": 11,
     "metadata": {},
     "output_type": "execute_result"
    }
   ],
   "source": [
    "product(10,200,5000)"
   ]
  },
  {
   "cell_type": "code",
   "execution_count": 14,
   "id": "466a8c7f",
   "metadata": {},
   "outputs": [],
   "source": [
    "#Lambda functions with list comprehension\n",
    "even = lambda L : [x for x in L if x%2 ==0]"
   ]
  },
  {
   "cell_type": "code",
   "execution_count": 16,
   "id": "6891b94b",
   "metadata": {},
   "outputs": [
    {
     "data": {
      "text/plain": [
       "[100, 38, 64, 400]"
      ]
     },
     "execution_count": 16,
     "metadata": {},
     "output_type": "execute_result"
    }
   ],
   "source": [
    "my_list = [100,3,9,38,64,89,57,31,400]\n",
    "even(my_list)"
   ]
  },
  {
   "cell_type": "code",
   "execution_count": 19,
   "id": "0fc6aa3c",
   "metadata": {},
   "outputs": [],
   "source": [
    "odd = lambda L : [x for x in L if x%2 != 0]"
   ]
  },
  {
   "cell_type": "code",
   "execution_count": 20,
   "id": "b39449c0",
   "metadata": {},
   "outputs": [
    {
     "data": {
      "text/plain": [
       "[3, 9, 89, 57, 31]"
      ]
     },
     "execution_count": 20,
     "metadata": {},
     "output_type": "execute_result"
    }
   ],
   "source": [
    "my_list = [100,3,9,38,64,89,57,31,400]\n",
    "odd(my_list)"
   ]
  },
  {
   "cell_type": "code",
   "execution_count": null,
   "id": "88aea0e7",
   "metadata": {},
   "outputs": [],
   "source": [
    "\n"
   ]
  }
 ],
 "metadata": {
  "kernelspec": {
   "display_name": "Python 3 (ipykernel)",
   "language": "python",
   "name": "python3"
  },
  "language_info": {
   "codemirror_mode": {
    "name": "ipython",
    "version": 3
   },
   "file_extension": ".py",
   "mimetype": "text/x-python",
   "name": "python",
   "nbconvert_exporter": "python",
   "pygments_lexer": "ipython3",
   "version": "3.11.5"
  }
 },
 "nbformat": 4,
 "nbformat_minor": 5
}
