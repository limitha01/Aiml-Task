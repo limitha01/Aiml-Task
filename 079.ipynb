{
 "cells": [
  {
   "cell_type": "code",
   "execution_count": 11,
   "id": "d5392d90",
   "metadata": {},
   "outputs": [
    {
     "name": "stdout",
     "output_type": "stream",
     "text": [
      "L1 = ['A', 'B']\n",
      "L2 = [100, 205]\n",
      "L3 = [True]\n",
      "L4 = [(6+8j)]\n"
     ]
    }
   ],
   "source": [
    "L = [\"A\", 100, \"B\", 205, True, 6+8j]\n",
    "L1 = [L[0], L[2]]\n",
    "L2 = [L[1], L[3]]\n",
    "L3 = [L[4]]\n",
    "L4 = [L[5]]\n",
    "print(\"L1 =\",L1)\n",
    "print(\"L2 =\",L2)\n",
    "print(\"L3 =\",L3)\n",
    "print(\"L4 =\",L4)\n"
   ]
  },
  {
   "cell_type": "code",
   "execution_count": 6,
   "id": "94777920",
   "metadata": {},
   "outputs": [
    {
     "name": "stdout",
     "output_type": "stream",
     "text": [
      "List of even numbers (L1): [100, 50, 256, 1000]\n",
      "List of odd numbers (L2): [193, 443, 53]\n"
     ]
    }
   ],
   "source": [
    "L = [100, 50, 193, 443, 256, 53, 1000]\n",
    "L1 = [] \n",
    "L2 = [] \n",
    "for x in L:\n",
    "    if x % 2 == 0:\n",
    "        L1.append(x)  \n",
    "    else:\n",
    "        L2.append(x) \n",
    "print(\"List of even numbers (L1):\", L1)\n",
    "print(\"List of odd numbers (L2):\", L2)\n"
   ]
  },
  {
   "cell_type": "code",
   "execution_count": 2,
   "id": "ed3be7b3",
   "metadata": {},
   "outputs": [
    {
     "name": "stdout",
     "output_type": "stream",
     "text": [
      "20\n",
      "[20, 30]\n",
      "[20, 30, 40, 50]\n",
      "[10, 20, 30]\n",
      "[10, 20, 30, 40, 50]\n"
     ]
    }
   ],
   "source": [
    "my_list = [10, 20, 30, 40, 50]\n",
    "print(my_list[1])\n",
    "print(my_list[1:3])\n",
    "print(my_list[1:])\n",
    "print(my_list[:3])\n",
    "print(my_list[:])"
   ]
  },
  {
   "cell_type": "code",
   "execution_count": 3,
   "id": "1c67d835",
   "metadata": {},
   "outputs": [
    {
     "name": "stdout",
     "output_type": "stream",
     "text": [
      "30\n",
      "60\n",
      "90\n",
      "120\n"
     ]
    }
   ],
   "source": [
    "my_list = [10, 20, 30, 40]\n",
    "for item in my_list:\n",
    "    print(3*item)"
   ]
  },
  {
   "cell_type": "code",
   "execution_count": 3,
   "id": "cd27b3c3",
   "metadata": {},
   "outputs": [
    {
     "data": {
      "text/plain": [
       "[[1, 2], [3, 4], [5, 6]]"
      ]
     },
     "execution_count": 3,
     "metadata": {},
     "output_type": "execute_result"
    }
   ],
   "source": [
    "nested_list = [[1,2], [3,4], [5,6]]\n",
    "nested_list"
   ]
  },
  {
   "cell_type": "code",
   "execution_count": 5,
   "id": "bd156534",
   "metadata": {},
   "outputs": [
    {
     "data": {
      "text/plain": [
       "['__add__',\n",
       " '__class__',\n",
       " '__class_getitem__',\n",
       " '__contains__',\n",
       " '__delattr__',\n",
       " '__delitem__',\n",
       " '__dir__',\n",
       " '__doc__',\n",
       " '__eq__',\n",
       " '__format__',\n",
       " '__ge__',\n",
       " '__getattribute__',\n",
       " '__getitem__',\n",
       " '__getstate__',\n",
       " '__gt__',\n",
       " '__hash__',\n",
       " '__iadd__',\n",
       " '__imul__',\n",
       " '__init__',\n",
       " '__init_subclass__',\n",
       " '__iter__',\n",
       " '__le__',\n",
       " '__len__',\n",
       " '__lt__',\n",
       " '__mul__',\n",
       " '__ne__',\n",
       " '__new__',\n",
       " '__reduce__',\n",
       " '__reduce_ex__',\n",
       " '__repr__',\n",
       " '__reversed__',\n",
       " '__rmul__',\n",
       " '__setattr__',\n",
       " '__setitem__',\n",
       " '__sizeof__',\n",
       " '__str__',\n",
       " '__subclasshook__',\n",
       " 'append',\n",
       " 'clear',\n",
       " 'copy',\n",
       " 'count',\n",
       " 'extend',\n",
       " 'index',\n",
       " 'insert',\n",
       " 'pop',\n",
       " 'remove',\n",
       " 'reverse',\n",
       " 'sort']"
      ]
     },
     "execution_count": 5,
     "metadata": {},
     "output_type": "execute_result"
    }
   ],
   "source": [
    "dir(list)"
   ]
  },
  {
   "cell_type": "code",
   "execution_count": 6,
   "id": "bf46bba7",
   "metadata": {},
   "outputs": [
    {
     "data": {
      "text/plain": [
       "[['apple', 10], ['banana', 5], ['cherry'], ['banana']]"
      ]
     },
     "execution_count": 6,
     "metadata": {},
     "output_type": "execute_result"
    }
   ],
   "source": [
    "#initial list of orders: [item_name, quantity]\n",
    "orders=[[\"apple\",10],[\"banana\",5],[\"cherry\"],[\"banana\"]]\n",
    "orders"
   ]
  },
  {
   "cell_type": "code",
   "execution_count": 8,
   "id": "1d8f145e",
   "metadata": {},
   "outputs": [
    {
     "data": {
      "text/plain": [
       "[['apple', 10], ['banana', 5], ['cherry'], ['banana'], ['date', 12]]"
      ]
     },
     "execution_count": 8,
     "metadata": {},
     "output_type": "execute_result"
    }
   ],
   "source": [
    "#add a new order with append\n",
    "new_order1 = [\"date\",12]\n",
    "orders.append(new_order1)\n",
    "orders"
   ]
  },
  {
   "cell_type": "code",
   "execution_count": 9,
   "id": "18818551",
   "metadata": {},
   "outputs": [
    {
     "data": {
      "text/plain": [
       "[['apple', 10],\n",
       " ['banana', 5],\n",
       " ['cherry'],\n",
       " ['banana'],\n",
       " ['date', 12],\n",
       " ['grape', 9],\n",
       " ['apple', 20]]"
      ]
     },
     "execution_count": 9,
     "metadata": {},
     "output_type": "execute_result"
    }
   ],
   "source": [
    "#add multiple orders at a time\n",
    "new_orders = [[\"grape\",9],[\"apple\",20]]\n",
    "orders.extend(new_orders)\n",
    "orders"
   ]
  },
  {
   "cell_type": "code",
   "execution_count": 10,
   "id": "d4e7dbc5",
   "metadata": {},
   "outputs": [
    {
     "data": {
      "text/plain": [
       "[['apple', 10],\n",
       " ['banana', 5],\n",
       " ['cherry'],\n",
       " ['Dragon', 10],\n",
       " ['banana'],\n",
       " ['date', 12],\n",
       " ['grape', 9],\n",
       " ['apple', 20]]"
      ]
     },
     "execution_count": 10,
     "metadata": {},
     "output_type": "execute_result"
    }
   ],
   "source": [
    "#add(insert) an order at an index position 3\n",
    "new_order2 = [\"Dragon\",10]\n",
    "orders.insert(3,new_order2)\n",
    "orders"
   ]
  },
  {
   "cell_type": "code",
   "execution_count": 11,
   "id": "388bba12",
   "metadata": {},
   "outputs": [
    {
     "data": {
      "text/plain": [
       "['banana']"
      ]
     },
     "execution_count": 11,
     "metadata": {},
     "output_type": "execute_result"
    }
   ],
   "source": [
    "#remove a duplicate order\n",
    "duplicate_Order = [\"banana\",5]\n",
    "orders.pop(4)"
   ]
  },
  {
   "cell_type": "code",
   "execution_count": 12,
   "id": "f4d33bf7",
   "metadata": {},
   "outputs": [
    {
     "data": {
      "text/plain": [
       "[['apple', 10],\n",
       " ['banana', 5],\n",
       " ['cherry'],\n",
       " ['Dragon', 10],\n",
       " ['date', 12],\n",
       " ['grape', 9],\n",
       " ['apple', 20]]"
      ]
     },
     "execution_count": 12,
     "metadata": {},
     "output_type": "execute_result"
    }
   ],
   "source": [
    "orders"
   ]
  },
  {
   "cell_type": "code",
   "execution_count": 6,
   "id": "76e2dfd7",
   "metadata": {},
   "outputs": [
    {
     "data": {
      "text/plain": [
       "[['apple', 10],\n",
       " ['banana', 5],\n",
       " ['cherry', 7],\n",
       " ['dragon', 10],\n",
       " ['grape', 9],\n",
       " ['apple', 20]]"
      ]
     },
     "execution_count": 6,
     "metadata": {},
     "output_type": "execute_result"
    }
   ],
   "source": [
    "#orders list\n",
    "[['apple',10], ['banana',5], ['cherry',7], ['dragon',10], ['grape',9], ['apple',20]]"
   ]
  },
  {
   "cell_type": "code",
   "execution_count": 14,
   "id": "0a8ead02",
   "metadata": {},
   "outputs": [
    {
     "name": "stdout",
     "output_type": "stream",
     "text": [
      "[['apple', 10], ['banana', 5], ['cherry', 100], ['dragon', 10], ['grape', 9], ['apple', 20]]\n"
     ]
    }
   ],
   "source": [
    "#update the quanity of an item (\"cherry\" to 100)\n",
    "orders = [['apple',10], ['banana',5], ['cherry',7], ['dragon',10], ['grape',9], ['apple',20]]\n",
    "for each in orders:\n",
    "    if each[0] == \"cherry\":\n",
    "        each[1] = 100\n",
    "        print(orders)"
   ]
  },
  {
   "cell_type": "code",
   "execution_count": 13,
   "id": "c2bc5e91",
   "metadata": {},
   "outputs": [
    {
     "name": "stdout",
     "output_type": "stream",
     "text": [
      "[5]\n",
      "5\n"
     ]
    }
   ],
   "source": [
    "banana_orders=[]\n",
    "for each in orders:\n",
    "    if each[0] == \"banana\":\n",
    "        banana_orders.append(each[1])\n",
    "        print(banana_orders)\n",
    "        print(sum(banana_orders))"
   ]
  },
  {
   "cell_type": "code",
   "execution_count": 15,
   "id": "167d157d",
   "metadata": {},
   "outputs": [
    {
     "name": "stdout",
     "output_type": "stream",
     "text": [
      "[10]\n",
      "10\n",
      "[10, 20]\n",
      "30\n"
     ]
    }
   ],
   "source": [
    "apple_orders=[]\n",
    "for each in orders:\n",
    "    if each[0] == \"apple\":\n",
    "        apple_orders.append(each[1])\n",
    "        print(apple_orders)\n",
    "        print(sum(apple_orders))"
   ]
  },
  {
   "cell_type": "code",
   "execution_count": 16,
   "id": "19e6a6a3",
   "metadata": {},
   "outputs": [
    {
     "name": "stdout",
     "output_type": "stream",
     "text": [
      "(94, 20, 9, 'A', 9.81)\n",
      "<class 'tuple'>\n"
     ]
    }
   ],
   "source": [
    "Tup1 = (94,20,9,\"A\",9.81)\n",
    "print(Tup1)\n",
    "print(type(Tup1))"
   ]
  },
  {
   "cell_type": "code",
   "execution_count": 22,
   "id": "8f7dcd5a",
   "metadata": {},
   "outputs": [
    {
     "name": "stdout",
     "output_type": "stream",
     "text": [
      "(40, 60, 78, 'Hi', 'Limmi')\n",
      "(60, 40, 25, 'Hello', 'Deepkaa')\n",
      "(80.2, 65, 'Had', 'Lunch?')\n",
      "(70, 20, 63, 'Bye', 'See you soon')\n"
     ]
    }
   ],
   "source": [
    "Tup1 = (40,60,78,\"Hi\",\"Limmi\")\n",
    "Tup2 = (60,40,25,\"Hello\", \"Deepkaa\")\n",
    "Tup3 = (80.20,65,\"Had\", \"Lunch?\")\n",
    "Tup4 = (70,20,63,\"Bye\", \"See you soon\")\n",
    "print(Tup1)\n",
    "print(Tup2)\n",
    "print(Tup3)\n",
    "print(Tup4)\n"
   ]
  },
  {
   "cell_type": "code",
   "execution_count": 20,
   "id": "72e69ecd",
   "metadata": {},
   "outputs": [
    {
     "data": {
      "text/plain": [
       "(40, 60, 78, 'Hi', 'Limmi')"
      ]
     },
     "execution_count": 20,
     "metadata": {},
     "output_type": "execute_result"
    }
   ],
   "source": [
    "Tup1"
   ]
  },
  {
   "cell_type": "code",
   "execution_count": 23,
   "id": "0021b8f1",
   "metadata": {},
   "outputs": [
    {
     "data": {
      "text/plain": [
       "(70, 20, 63, 'Bye', 'See you soon')"
      ]
     },
     "execution_count": 23,
     "metadata": {},
     "output_type": "execute_result"
    }
   ],
   "source": [
    "Tup4"
   ]
  },
  {
   "cell_type": "code",
   "execution_count": 37,
   "id": "4e01e1ea",
   "metadata": {},
   "outputs": [
    {
     "name": "stdout",
     "output_type": "stream",
     "text": [
      "([1, 2, 3], [4, 5, 6], 'Hello', 9.8)\n"
     ]
    }
   ],
   "source": [
    "Tup5 =([1,2,3],[4,5,6],'Hello',9.8)\n",
    "print(Tup5)"
   ]
  },
  {
   "cell_type": "code",
   "execution_count": 38,
   "id": "1a828ff5",
   "metadata": {},
   "outputs": [
    {
     "data": {
      "text/plain": [
       "([1, 2, 3], [4, 100, 6], 'Hello', 9.8)"
      ]
     },
     "execution_count": 38,
     "metadata": {},
     "output_type": "execute_result"
    }
   ],
   "source": [
    "Tup5[1][1] = 100\n",
    "Tup5"
   ]
  },
  {
   "cell_type": "code",
   "execution_count": 2,
   "id": "305e1820",
   "metadata": {},
   "outputs": [
    {
     "name": "stdout",
     "output_type": "stream",
     "text": [
      "{'a': 1, 'b': 2, 'c': 3}\n",
      "<class 'dict'>\n"
     ]
    }
   ],
   "source": [
    "#create dictionary using curly braces {}\n",
    "d1 = {\"a\": 1, \"b\": 2, \"c\": 3}\n",
    "print(d1)\n",
    "print(type(d1))"
   ]
  },
  {
   "cell_type": "code",
   "execution_count": 3,
   "id": "f5d2a011",
   "metadata": {},
   "outputs": [
    {
     "name": "stdout",
     "output_type": "stream",
     "text": [
      "{'A': 10, 'B': 15, 'C': 30}\n"
     ]
    }
   ],
   "source": [
    "d2 = dict(A=10, B=15, C=30)\n",
    "print(d2)"
   ]
  },
  {
   "cell_type": "code",
   "execution_count": 4,
   "id": "d9f0338b",
   "metadata": {},
   "outputs": [
    {
     "name": "stdout",
     "output_type": "stream",
     "text": [
      "{'x': 1, 'y': 2, 'z': 3}\n"
     ]
    }
   ],
   "source": [
    "d3 = dict([(\"x\",1), (\"y\",2), (\"z\",3)])\n",
    "print(d3)"
   ]
  },
  {
   "cell_type": "code",
   "execution_count": 6,
   "id": "b761019e",
   "metadata": {},
   "outputs": [
    {
     "name": "stdout",
     "output_type": "stream",
     "text": [
      "dict_keys(['a', 'b', 'c'])\n",
      "dict_values([1, 2, 3])\n",
      "dict_items([('a', 1), ('b', 2), ('c', 3)])\n"
     ]
    }
   ],
   "source": [
    "#print keys, value and key: value pairs\n",
    "print(d1.keys())\n",
    "print(d1.values())\n",
    "print(d1.items())"
   ]
  },
  {
   "cell_type": "code",
   "execution_count": 7,
   "id": "b653fbca",
   "metadata": {},
   "outputs": [
    {
     "name": "stdout",
     "output_type": "stream",
     "text": [
      "dict_keys(['a', 'b', 'c'])\n",
      "dict_values([10, 15, 30])\n",
      "dict_items([('x', 1), ('y', 2), ('z', 3)])\n"
     ]
    }
   ],
   "source": [
    "print(d1.keys())\n",
    "print(d2.values())\n",
    "print(d3.items())"
   ]
  },
  {
   "cell_type": "code",
   "execution_count": 23,
   "id": "de812f58",
   "metadata": {},
   "outputs": [
    {
     "data": {
      "text/plain": [
       "{'Virat': 95, 'Rohit': 100, 'Rahul': 85, 'Hardik': 92, 'Nithish': 100}"
      ]
     },
     "execution_count": 23,
     "metadata": {},
     "output_type": "execute_result"
    }
   ],
   "source": [
    "scores = {\"Virat\":95, \"Rohit\":100, \"Rahul\":85, \"Hardik\":92, \"Nithish\":100}\n",
    "scores"
   ]
  },
  {
   "cell_type": "code",
   "execution_count": 24,
   "id": "b2de7ac5",
   "metadata": {},
   "outputs": [
    {
     "data": {
      "text/plain": [
       "{'Virat': 95,\n",
       " 'Rohit': 100,\n",
       " 'Rahul': 85,\n",
       " 'Hardik': 92,\n",
       " 'Nithish': 100,\n",
       " 'Padkal': 93}"
      ]
     },
     "execution_count": 24,
     "metadata": {},
     "output_type": "execute_result"
    }
   ],
   "source": [
    "scores[\"Padkal\"] = 93 \n",
    "scores"
   ]
  },
  {
   "cell_type": "code",
   "execution_count": 25,
   "id": "0abbee4d",
   "metadata": {},
   "outputs": [
    {
     "data": {
      "text/plain": [
       "{'Virat': 95,\n",
       " 'Rohit': 100,\n",
       " 'Rahul': 85,\n",
       " 'Hardik': 92,\n",
       " 'Nithish': 100,\n",
       " 'Padkal': 93}"
      ]
     },
     "execution_count": 25,
     "metadata": {},
     "output_type": "execute_result"
    }
   ],
   "source": [
    "scores.update({\"Hardik\":92})\n",
    "scores"
   ]
  },
  {
   "cell_type": "code",
   "execution_count": 28,
   "id": "46695632",
   "metadata": {},
   "outputs": [
    {
     "data": {
      "text/plain": [
       "{'Virat': 95,\n",
       " 'Rohit': 100,\n",
       " 'Rahul': 85,\n",
       " 'Hardik': 92,\n",
       " 'Nithish': 100,\n",
       " 'Padkal': 93,\n",
       " 'Jadeja': 98,\n",
       " 'Gill': 70}"
      ]
     },
     "execution_count": 28,
     "metadata": {},
     "output_type": "execute_result"
    }
   ],
   "source": [
    "scores.update({\"Jadeja\":98, \"Gill\":70})\n",
    "scores"
   ]
  },
  {
   "cell_type": "code",
   "execution_count": 30,
   "id": "1bfd30d0",
   "metadata": {},
   "outputs": [
    {
     "data": {
      "text/plain": [
       "{'Virat': 95,\n",
       " 'Rohit': 100,\n",
       " 'Rahul': 85,\n",
       " 'Hardik': 92,\n",
       " 'Nithish': 100,\n",
       " 'Padkal': 93,\n",
       " 'Jadeja': 98,\n",
       " 'Gill': 70,\n",
       " 'Aswin': 80}"
      ]
     },
     "execution_count": 30,
     "metadata": {},
     "output_type": "execute_result"
    }
   ],
   "source": [
    "scores.setdefault(\"Aswin\",80)\n",
    "scores"
   ]
  },
  {
   "cell_type": "code",
   "execution_count": 31,
   "id": "86549892",
   "metadata": {},
   "outputs": [
    {
     "data": {
      "text/plain": [
       "{'Virat': 95,\n",
       " 'Rohit': 100,\n",
       " 'Rahul': 85,\n",
       " 'Hardik': 92,\n",
       " 'Nithish': 100,\n",
       " 'Padkal': 93,\n",
       " 'Jadeja': 94,\n",
       " 'Gill': 70,\n",
       " 'Aswin': 80}"
      ]
     },
     "execution_count": 31,
     "metadata": {},
     "output_type": "execute_result"
    }
   ],
   "source": [
    "scores.update({\"Jadeja\":94})\n",
    "scores"
   ]
  },
  {
   "cell_type": "code",
   "execution_count": 39,
   "id": "3490bd38",
   "metadata": {},
   "outputs": [
    {
     "data": {
      "text/plain": [
       "{'Virat': 95,\n",
       " 'Rohit': 100,\n",
       " 'Rahul': 85,\n",
       " 'Hardik': 92,\n",
       " 'Nithish': 100,\n",
       " 'Padkal': 93,\n",
       " 'Jadeja': 94}"
      ]
     },
     "execution_count": 39,
     "metadata": {},
     "output_type": "execute_result"
    }
   ],
   "source": [
    "scores.pop(\"Gill\")\n",
    "scores"
   ]
  },
  {
   "cell_type": "code",
   "execution_count": 42,
   "id": "e9ea622c",
   "metadata": {},
   "outputs": [
    {
     "data": {
      "text/plain": [
       "92"
      ]
     },
     "execution_count": 42,
     "metadata": {},
     "output_type": "execute_result"
    }
   ],
   "source": [
    "scores.get(\"Hardik\")\n"
   ]
  },
  {
   "cell_type": "code",
   "execution_count": 43,
   "id": "3034b8b0",
   "metadata": {},
   "outputs": [
    {
     "data": {
      "text/plain": [
       "{'A': None, 'B': None, 'C': None, 'D': None}"
      ]
     },
     "execution_count": 43,
     "metadata": {},
     "output_type": "execute_result"
    }
   ],
   "source": [
    "#use of fromkeys() to create a new dict\n",
    "list1 = [\"A\", \"B\", \"C\", \"D\"]\n",
    "my_dict = dict.fromkeys(list1)\n",
    "my_dict"
   ]
  },
  {
   "cell_type": "code",
   "execution_count": 44,
   "id": "b999f2f8",
   "metadata": {},
   "outputs": [
    {
     "data": {
      "text/plain": [
       "{'A': 10, 'B': 20, 'C': None, 'D': None}"
      ]
     },
     "execution_count": 44,
     "metadata": {},
     "output_type": "execute_result"
    }
   ],
   "source": [
    "my_dict.update({\"A\":10, \"B\":20})\n",
    "my_dict"
   ]
  },
  {
   "cell_type": "code",
   "execution_count": 45,
   "id": "67c9e5c5",
   "metadata": {},
   "outputs": [
    {
     "data": {
      "text/plain": [
       "{'A': 15, 'B': 15, 'C': 15, 'D': 15}"
      ]
     },
     "execution_count": 45,
     "metadata": {},
     "output_type": "execute_result"
    }
   ],
   "source": [
    "#use of fromkeys() to create a new dict\n",
    "list1 = [\"A\", \"B\", \"C\", \"D\"]\n",
    "my_dict = dict.fromkeys(list1,15)\n",
    "my_dict"
   ]
  },
  {
   "cell_type": "code",
   "execution_count": 46,
   "id": "82f6d287",
   "metadata": {},
   "outputs": [
    {
     "data": {
      "text/plain": [
       "{'A': 10, 'B': 20, 'C': 15, 'D': 15}"
      ]
     },
     "execution_count": 46,
     "metadata": {},
     "output_type": "execute_result"
    }
   ],
   "source": [
    "my_dict.update({\"A\":10, \"B\":20})\n",
    "my_dict"
   ]
  },
  {
   "cell_type": "code",
   "execution_count": null,
   "id": "470fc5bb",
   "metadata": {},
   "outputs": [],
   "source": []
  }
 ],
 "metadata": {
  "kernelspec": {
   "display_name": "Python 3 (ipykernel)",
   "language": "python",
   "name": "python3"
  },
  "language_info": {
   "codemirror_mode": {
    "name": "ipython",
    "version": 3
   },
   "file_extension": ".py",
   "mimetype": "text/x-python",
   "name": "python",
   "nbconvert_exporter": "python",
   "pygments_lexer": "ipython3",
   "version": "3.11.5"
  }
 },
 "nbformat": 4,
 "nbformat_minor": 5
}
